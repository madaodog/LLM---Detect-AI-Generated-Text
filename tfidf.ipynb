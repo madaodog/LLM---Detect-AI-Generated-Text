{
 "cells": [
  {
   "cell_type": "markdown",
   "metadata": {},
   "source": [
    "# TF-IDF approach"
   ]
  },
  {
   "cell_type": "code",
   "execution_count": 16,
   "metadata": {},
   "outputs": [],
   "source": [
    "import pandas as pd\n",
    "import numpy as np\n",
    "import matplotlib.pyplot as plt\n",
    "import nltk\n",
    "from nltk.corpus import stopwords\n",
    "from nltk.tokenize import word_tokenize\n",
    "from nltk.stem import WordNetLemmatizer\n",
    "from nltk.probability import FreqDist\n",
    "from sklearn.feature_extraction.text import TfidfVectorizer\n",
    "from sklearn.model_selection import train_test_split\n",
    "from sklearn.linear_model import LogisticRegression\n",
    "from sklearn.metrics import accuracy_score"
   ]
  },
  {
   "cell_type": "code",
   "execution_count": 19,
   "metadata": {},
   "outputs": [
    {
     "name": "stdout",
     "output_type": "stream",
     "text": [
      "<Compressed Sparse Row sparse matrix of dtype 'float64'\n",
      "\twith 1965601 stored elements and shape (17251, 60025)>\n",
      "  Coords\tValues\n",
      "  (0, 8814)\t0.44060707563007934\n",
      "  (0, 22268)\t0.058793005354602995\n",
      "  (0, 142)\t0.07892389034158183\n",
      "  (0, 26236)\t0.08544025137560395\n",
      "  (0, 23360)\t0.0552255042725913\n",
      "  (0, 13422)\t0.03293370741865494\n",
      "  (0, 7740)\t0.047780925285841665\n",
      "  (0, 34427)\t0.09435939363131442\n",
      "  (0, 40012)\t0.05088655552895667\n",
      "  (0, 32793)\t0.0330264077745167\n",
      "  (0, 46131)\t0.047490804534193895\n",
      "  (0, 14143)\t0.12725868597224518\n",
      "  (0, 32208)\t0.035544816217503876\n",
      "  (0, 38949)\t0.05659581739242679\n",
      "  (0, 50523)\t0.047511264350899356\n",
      "  (0, 42951)\t0.043775147634129714\n",
      "  (0, 32011)\t0.11841364808449026\n",
      "  (0, 8636)\t0.044122676867719895\n",
      "  (0, 57046)\t0.028694645105538725\n",
      "  (0, 24860)\t0.11059037862832782\n",
      "  (0, 53912)\t0.10878239503322487\n",
      "  (0, 57068)\t0.13789249966376776\n",
      "  (0, 31911)\t0.0645455929505101\n",
      "  (0, 33359)\t0.03384358105381923\n",
      "  (0, 4370)\t0.10846255390688153\n",
      "  :\t:\n",
      "  (17250, 802)\t0.148053998558936\n",
      "  (17250, 44121)\t0.06152699298181448\n",
      "  (17250, 51111)\t0.04997989358475192\n",
      "  (17250, 50117)\t0.06217320877298594\n",
      "  (17250, 11284)\t0.05941553496745522\n",
      "  (17250, 44189)\t0.05725989851255056\n",
      "  (17250, 12947)\t0.05452871363629955\n",
      "  (17250, 53453)\t0.04332776622841493\n",
      "  (17250, 15320)\t0.054090182695208315\n",
      "  (17250, 41047)\t0.06032984061007805\n",
      "  (17250, 23907)\t0.07878948509799413\n",
      "  (17250, 22164)\t0.1562173305328859\n",
      "  (17250, 58603)\t0.05371086615553822\n",
      "  (17250, 59664)\t0.04291632959003375\n",
      "  (17250, 48720)\t0.0436386486564525\n",
      "  (17250, 11824)\t0.06593237588398078\n",
      "  (17250, 56044)\t0.15971108039019072\n",
      "  (17250, 3010)\t0.062441694377610595\n",
      "  (17250, 47869)\t0.061695965736173725\n",
      "  (17250, 12214)\t0.06424386224319147\n",
      "  (17250, 26033)\t0.0880724431069352\n",
      "  (17250, 137)\t0.06593237588398078\n",
      "  (17250, 36452)\t0.08631844770694555\n",
      "  (17250, 56084)\t0.14631011383991666\n",
      "  (17250, 1744)\t0.1166705038090894\n"
     ]
    }
   ],
   "source": [
    "train_essays = pd.read_csv('train_essays.csv')\n",
    "\n",
    "tfidfvectorizer = TfidfVectorizer(analyzer='word', stop_words='english')\n",
    "\n",
    "tfidf_wm = tfidfvectorizer.fit_transform(train_essays['text'])\n",
    "print(tfidf_wm)\n",
    "\n"
   ]
  },
  {
   "cell_type": "code",
   "execution_count": 18,
   "metadata": {},
   "outputs": [
    {
     "name": "stdout",
     "output_type": "stream",
     "text": [
      "Accuracy:  0.990919629057187\n"
     ]
    }
   ],
   "source": [
    "y = train_essays['label']\n",
    "X = tfidf_wm.toarray()\n",
    "\n",
    "X_train, X_test, y_train, y_test = train_test_split(X, y, test_size=0.3, random_state=42)\n",
    "\n",
    "logreg = LogisticRegression()\n",
    "logreg.fit(X_train, y_train)\n",
    "\n",
    "y_pred = logreg.predict(X_test)\n",
    "\n",
    "print('Accuracy: ', accuracy_score(y_test, y_pred))\n"
   ]
  }
 ],
 "metadata": {
  "kernelspec": {
   "display_name": "Python 3",
   "language": "python",
   "name": "python3"
  },
  "language_info": {
   "codemirror_mode": {
    "name": "ipython",
    "version": 3
   },
   "file_extension": ".py",
   "mimetype": "text/x-python",
   "name": "python",
   "nbconvert_exporter": "python",
   "pygments_lexer": "ipython3",
   "version": "3.12.4"
  }
 },
 "nbformat": 4,
 "nbformat_minor": 2
}
